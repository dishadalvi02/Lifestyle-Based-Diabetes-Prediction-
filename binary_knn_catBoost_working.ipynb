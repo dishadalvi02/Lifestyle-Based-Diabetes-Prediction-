{
  "nbformat": 4,
  "nbformat_minor": 0,
  "metadata": {
    "colab": {
      "provenance": []
    },
    "kernelspec": {
      "name": "python3",
      "display_name": "Python 3"
    },
    "language_info": {
      "name": "python"
    }
  },
  "cells": [
    {
      "cell_type": "code",
      "execution_count": 28,
      "metadata": {
        "id": "F4fBLUKKjL2P",
        "colab": {
          "base_uri": "https://localhost:8080/"
        },
        "outputId": "6cbbb509-d91f-43c4-9d62-3b9a71fcac86"
      },
      "outputs": [
        {
          "output_type": "stream",
          "name": "stdout",
          "text": [
            "Accuracy (Tuned KNN with Selected Features): 0.8778774565257426\n",
            "Classification Report (Tuned KNN with Selected Features):\n",
            "              precision    recall  f1-score   support\n",
            "\n",
            "           0       0.91      0.83      0.87     37998\n",
            "           1       0.85      0.92      0.88     38024\n",
            "\n",
            "    accuracy                           0.88     76022\n",
            "   macro avg       0.88      0.88      0.88     76022\n",
            "weighted avg       0.88      0.88      0.88     76022\n",
            "\n",
            "Confusion Matrix (Tuned KNN with Selected Features):\n",
            "[[31719  6279]\n",
            " [ 3005 35019]]\n"
          ]
        }
      ],
      "source": [
        "import pandas as pd\n",
        "from imblearn.over_sampling import SMOTE\n",
        "from sklearn.model_selection import train_test_split\n",
        "from sklearn.neighbors import KNeighborsClassifier\n",
        "from sklearn.metrics import accuracy_score, classification_report, confusion_matrix\n",
        "\n",
        "# Load dataset\n",
        "df = pd.read_csv(\"/content/binary_diabetes_data.csv\")\n",
        "\n",
        "# Step 1: Remove duplicates\n",
        "df = df.drop_duplicates()\n",
        "\n",
        "# Step 2: Select features and target\n",
        "selected_features = ['HighBP', 'HighChol', 'BMI', 'Stroke', 'HeartDiseaseorAttack',\n",
        "       'PhysActivity', 'HvyAlcoholConsump', 'AnyHealthcare', 'GenHlth',\n",
        "       'PhysHlth', 'DiffWalk', 'Sex', 'Age', 'Education', 'Income']\n",
        "target = 'Diabetes_012'\n",
        "\n",
        "# Separate the features and target variable\n",
        "X = df[selected_features]\n",
        "y = df['Diabetes_012']\n",
        "\n",
        "# Apply SMOTE to balance the classes\n",
        "smote = SMOTE(sampling_strategy='auto', random_state=42)\n",
        "X_resampled, y_resampled = smote.fit_resample(X, y)\n",
        "\n",
        "# Step 3: Apply train-test split\n",
        "X_train, X_test, y_train, y_test = train_test_split(X_resampled, y_resampled, test_size=0.2, random_state=42)\n",
        "\n",
        "# Initialize KNN model with best parameters\n",
        "knn_model_tuned = KNeighborsClassifier(n_neighbors=3, weights='distance', metric='manhattan')\n",
        "\n",
        "# Train the KNN model using training data\n",
        "knn_model_tuned.fit(X_train, y_train)\n",
        "\n",
        "# Make predictions on the test dataset\n",
        "y_pred_tuned = knn_model_tuned.predict(X_test)\n",
        "\n",
        "# Evaluate the KNN model on test data\n",
        "accuracy_tuned = accuracy_score(y_test, y_pred_tuned)\n",
        "print(f\"Accuracy (Tuned KNN with Selected Features): {accuracy_tuned}\")\n",
        "print(\"Classification Report (Tuned KNN with Selected Features):\")\n",
        "print(classification_report(y_test, y_pred_tuned))\n",
        "print(\"Confusion Matrix (Tuned KNN with Selected Features):\")\n",
        "print(confusion_matrix(y_test, y_pred_tuned))\n"
      ]
    },
    {
      "cell_type": "code",
      "source": [
        "import pandas as pd\n",
        "from imblearn.over_sampling import SMOTE\n",
        "from sklearn.model_selection import train_test_split\n",
        "from catboost import CatBoostClassifier\n",
        "from sklearn.metrics import accuracy_score, classification_report, confusion_matrix\n",
        "\n",
        "# Load dataset\n",
        "df = pd.read_csv(\"/content/binary_diabetes_data.csv\")\n",
        "\n",
        "# Step 1: Remove duplicates\n",
        "df = df.drop_duplicates()\n",
        "\n",
        "# Step 2: Select features and target\n",
        "selected_features = ['HighBP', 'HighChol', 'BMI', 'Stroke', 'HeartDiseaseorAttack',\n",
        "       'PhysActivity', 'HvyAlcoholConsump', 'AnyHealthcare', 'GenHlth',\n",
        "       'PhysHlth', 'DiffWalk', 'Sex', 'Age', 'Education', 'Income']\n",
        "target = 'Diabetes_012'\n",
        "\n",
        "# Separate the features and target variable\n",
        "X = df[selected_features]\n",
        "y = df['Diabetes_012']\n",
        "\n",
        "# Apply SMOTE to balance the classes\n",
        "smote = SMOTE(sampling_strategy='auto', random_state=42)\n",
        "X_resampled, y_resampled = smote.fit_resample(X, y)\n",
        "\n",
        "# Step 3: Apply train-test split\n",
        "X_train, X_test, y_train, y_test = train_test_split(X_resampled, y_resampled, test_size=0.2, random_state=42)\n",
        "\n",
        "# Initialize CatBoost model with specified parameters\n",
        "catboost_model = CatBoostClassifier(\n",
        "    learning_rate=0.05,\n",
        "    l2_leaf_reg=1,\n",
        "    iterations=1000,\n",
        "    depth=10,\n",
        "    border_count=32,\n",
        "    cat_features=[],  # If there are categorical features, list them here\n",
        "    random_state=42,\n",
        "    verbose=200  # Display output every 200 iterations\n",
        ")\n",
        "\n",
        "# Train the CatBoost model using training data\n",
        "catboost_model.fit(X_train, y_train)\n",
        "\n",
        "# Make predictions on the test dataset\n",
        "y_pred_catboost = catboost_model.predict(X_test)\n",
        "\n",
        "# Evaluate the CatBoost model on test data\n",
        "accuracy_catboost = accuracy_score(y_test, y_pred_catboost)\n",
        "print(f\"Accuracy (CatBoost with Selected Features): {accuracy_catboost}\")\n",
        "print(\"Classification Report (CatBoost with Selected Features):\")\n",
        "print(classification_report(y_test, y_pred_catboost))\n",
        "print(\"Confusion Matrix (CatBoost with Selected Features):\")\n",
        "print(confusion_matrix(y_test, y_pred_catboost))\n"
      ],
      "metadata": {
        "colab": {
          "base_uri": "https://localhost:8080/"
        },
        "id": "W66-a6U9-9ik",
        "outputId": "5c0bff22-5ee5-4e36-8d99-e2d660b909c5"
      },
      "execution_count": 60,
      "outputs": [
        {
          "output_type": "stream",
          "name": "stdout",
          "text": [
            "0:\tlearn: 0.6444520\ttotal: 200ms\tremaining: 3m 19s\n",
            "200:\tlearn: 0.2379151\ttotal: 37.6s\tremaining: 2m 29s\n",
            "400:\tlearn: 0.2210449\ttotal: 1m 13s\tremaining: 1m 49s\n",
            "600:\tlearn: 0.2097887\ttotal: 1m 47s\tremaining: 1m 11s\n",
            "800:\tlearn: 0.2000777\ttotal: 2m 22s\tremaining: 35.4s\n",
            "999:\tlearn: 0.1919211\ttotal: 2m 56s\tremaining: 0us\n",
            "Accuracy (CatBoost with Selected Features): 0.8905053800215728\n",
            "Classification Report (CatBoost with Selected Features):\n",
            "              precision    recall  f1-score   support\n",
            "\n",
            "           0       0.85      0.95      0.90     37998\n",
            "           1       0.94      0.83      0.88     38024\n",
            "\n",
            "    accuracy                           0.89     76022\n",
            "   macro avg       0.90      0.89      0.89     76022\n",
            "weighted avg       0.90      0.89      0.89     76022\n",
            "\n",
            "Confusion Matrix (CatBoost with Selected Features):\n",
            "[[36118  1880]\n",
            " [ 6444 31580]]\n"
          ]
        }
      ]
    },
    {
      "source": [
        "!pip install catboost"
      ],
      "cell_type": "code",
      "metadata": {
        "colab": {
          "base_uri": "https://localhost:8080/"
        },
        "id": "zNp_kQTP_Hw1",
        "outputId": "9f4d6977-7054-4c25-f9b9-e8dae5143942"
      },
      "execution_count": 59,
      "outputs": [
        {
          "output_type": "stream",
          "name": "stdout",
          "text": [
            "Collecting catboost\n",
            "  Downloading catboost-1.2.7-cp311-cp311-manylinux2014_x86_64.whl.metadata (1.2 kB)\n",
            "Requirement already satisfied: graphviz in /usr/local/lib/python3.11/dist-packages (from catboost) (0.20.3)\n",
            "Requirement already satisfied: matplotlib in /usr/local/lib/python3.11/dist-packages (from catboost) (3.10.0)\n",
            "Requirement already satisfied: numpy<2.0,>=1.16.0 in /usr/local/lib/python3.11/dist-packages (from catboost) (1.26.4)\n",
            "Requirement already satisfied: pandas>=0.24 in /usr/local/lib/python3.11/dist-packages (from catboost) (2.2.2)\n",
            "Requirement already satisfied: scipy in /usr/local/lib/python3.11/dist-packages (from catboost) (1.13.1)\n",
            "Requirement already satisfied: plotly in /usr/local/lib/python3.11/dist-packages (from catboost) (5.24.1)\n",
            "Requirement already satisfied: six in /usr/local/lib/python3.11/dist-packages (from catboost) (1.17.0)\n",
            "Requirement already satisfied: python-dateutil>=2.8.2 in /usr/local/lib/python3.11/dist-packages (from pandas>=0.24->catboost) (2.8.2)\n",
            "Requirement already satisfied: pytz>=2020.1 in /usr/local/lib/python3.11/dist-packages (from pandas>=0.24->catboost) (2024.2)\n",
            "Requirement already satisfied: tzdata>=2022.7 in /usr/local/lib/python3.11/dist-packages (from pandas>=0.24->catboost) (2025.1)\n",
            "Requirement already satisfied: contourpy>=1.0.1 in /usr/local/lib/python3.11/dist-packages (from matplotlib->catboost) (1.3.1)\n",
            "Requirement already satisfied: cycler>=0.10 in /usr/local/lib/python3.11/dist-packages (from matplotlib->catboost) (0.12.1)\n",
            "Requirement already satisfied: fonttools>=4.22.0 in /usr/local/lib/python3.11/dist-packages (from matplotlib->catboost) (4.55.7)\n",
            "Requirement already satisfied: kiwisolver>=1.3.1 in /usr/local/lib/python3.11/dist-packages (from matplotlib->catboost) (1.4.8)\n",
            "Requirement already satisfied: packaging>=20.0 in /usr/local/lib/python3.11/dist-packages (from matplotlib->catboost) (24.2)\n",
            "Requirement already satisfied: pillow>=8 in /usr/local/lib/python3.11/dist-packages (from matplotlib->catboost) (11.1.0)\n",
            "Requirement already satisfied: pyparsing>=2.3.1 in /usr/local/lib/python3.11/dist-packages (from matplotlib->catboost) (3.2.1)\n",
            "Requirement already satisfied: tenacity>=6.2.0 in /usr/local/lib/python3.11/dist-packages (from plotly->catboost) (9.0.0)\n",
            "Downloading catboost-1.2.7-cp311-cp311-manylinux2014_x86_64.whl (98.7 MB)\n",
            "\u001b[2K   \u001b[90m━━━━━━━━━━━━━━━━━━━━━━━━━━━━━━━━━━━━━━━━\u001b[0m \u001b[32m98.7/98.7 MB\u001b[0m \u001b[31m7.4 MB/s\u001b[0m eta \u001b[36m0:00:00\u001b[0m\n",
            "\u001b[?25hInstalling collected packages: catboost\n",
            "Successfully installed catboost-1.2.7\n"
          ]
        }
      ]
    },
    {
      "cell_type": "code",
      "source": [
        "#Check"
      ],
      "metadata": {
        "id": "7PtcijnQNrba"
      },
      "execution_count": 163,
      "outputs": []
    },
    {
      "cell_type": "code",
      "source": [
        "import numpy as np\n",
        "def predict_diabetes():\n",
        "  # # Get feature input from the user\n",
        "  # HighBP = int(input(\"Enter HighBP (0 or 1): \"))\n",
        "  # HighChol = int(input(\"Enter HighChol (0 or 1): \"))\n",
        "  # BMI = int(input(\"Enter BMI: \"))\n",
        "  # Stroke = int(input(\"Enter Stroke (0 or 1): \"))\n",
        "  # HeartDiseaseorAttack = int(input(\"Enter HeartDiseaseorAttack (0 or 1): \"))\n",
        "  # PhysActivity = int(input(\"Enter PhysActivity (0 or 1): \"))\n",
        "  # HvyAlcoholConsump = int(input(\"Enter HvyAlcoholConsump (0 or 1): \"))\n",
        "  # AnyHealthcare = int(input(\"Enter AnyHealthcare (0 or 1): \"))\n",
        "  # GenHlth = int(input(\"Enter GenHlth (1-5): \"))\n",
        "  # PhysHlth = int(input(\"Enter PhysHlth (0-30): \"))\n",
        "  # DiffWalk = int(input(\"Enter DiffWalk (0 or 1): \"))\n",
        "  # Sex = int(input(\"Enter Sex (0 for Female, 1 for Male): \"))\n",
        "  # Age = int(input(\"Enter Age (1-13): \"))\n",
        "  # Education = int(input(\"Enter Education (1-6): \"))\n",
        "  # Income = int(input(\"Enter Income (1-8): \"))\n",
        "\n",
        "  # Create a list of features\n",
        "  # features = [HighBP, HighChol, BMI, Stroke, HeartDiseaseorAttack, PhysActivity,\n",
        "  #             HvyAlcoholConsump, AnyHealthcare, GenHlth, PhysHlth, DiffWalk,\n",
        "  #             Sex, Age, Education, Income]\n",
        "  features=X.iloc[60].values\n",
        "\n",
        "  # Convert features to a NumPy array and reshape for prediction\n",
        "  features_array = np.array(features).reshape(1, -1)\n",
        "\n",
        "  # Use the trained Random Forest model to make a prediction\n",
        "  prediction = catboost_model.predict(features_array)[0]\n",
        "\n",
        "  # Return the prediction result as a string\n",
        "  return 'Diabetic' if prediction == 1 else 'Non-Diabetic'\n",
        "\n",
        "\n",
        "# Example usage:\n",
        "prediction_result = predict_diabetes()\n",
        "print(f\"Prediction: {prediction_result}\")\n"
      ],
      "metadata": {
        "colab": {
          "base_uri": "https://localhost:8080/"
        },
        "id": "ghZfkic0teHj",
        "outputId": "59562db3-de71-4b8d-92a7-f7af515e8663"
      },
      "execution_count": 161,
      "outputs": [
        {
          "output_type": "stream",
          "name": "stdout",
          "text": [
            "Prediction: Non-Diabetic\n"
          ]
        }
      ]
    },
    {
      "cell_type": "code",
      "source": [
        "  features=X.iloc[60].values\n",
        "\n",
        "  # Convert features to a NumPy array and reshape for prediction\n",
        "  features_array = np.array(features).reshape(1, -1)\n",
        "\n",
        "  # Use the trained Random Forest model to make a prediction\n",
        "  prediction =knn_model_tuned.predict(features_array)[0]\n",
        "  prediction"
      ],
      "metadata": {
        "colab": {
          "base_uri": "https://localhost:8080/"
        },
        "id": "YXS9GO7gBb7-",
        "outputId": "976d6b15-6705-455f-8f64-d7d753e3f28f"
      },
      "execution_count": 162,
      "outputs": [
        {
          "output_type": "stream",
          "name": "stderr",
          "text": [
            "/usr/local/lib/python3.11/dist-packages/sklearn/utils/validation.py:2739: UserWarning: X does not have valid feature names, but KNeighborsClassifier was fitted with feature names\n",
            "  warnings.warn(\n"
          ]
        },
        {
          "output_type": "execute_result",
          "data": {
            "text/plain": [
              "1"
            ]
          },
          "metadata": {},
          "execution_count": 162
        }
      ]
    },
    {
      "cell_type": "code",
      "source": [],
      "metadata": {
        "id": "gXxFXjYJtcpg"
      },
      "execution_count": null,
      "outputs": []
    },
    {
      "cell_type": "code",
      "source": [
        "with open('model_binary_working.pkl', 'wb') as f:\n",
        "    pickle.dump(knn_model_tuned, f)\n",
        "\n",
        "print(\"Model saved successfully!\")"
      ],
      "metadata": {
        "colab": {
          "base_uri": "https://localhost:8080/"
        },
        "id": "Nl_XwZrdm__Z",
        "outputId": "ba4c81a1-91a3-4193-a25a-2331b6824884"
      },
      "execution_count": 57,
      "outputs": [
        {
          "output_type": "stream",
          "name": "stdout",
          "text": [
            "Model saved successfully!\n"
          ]
        }
      ]
    },
    {
      "cell_type": "code",
      "source": [
        "X.iloc[2].values"
      ],
      "metadata": {
        "id": "mf6vmFD6m4vY",
        "colab": {
          "base_uri": "https://localhost:8080/"
        },
        "outputId": "daef1b24-949d-4607-b27d-6411e91a9de0"
      },
      "execution_count": 133,
      "outputs": [
        {
          "output_type": "execute_result",
          "data": {
            "text/plain": [
              "array([ 1.,  1., 28.,  0.,  0.,  0.,  0.,  1.,  5., 30.,  1.,  0.,  9.,\n",
              "        4.,  8.])"
            ]
          },
          "metadata": {},
          "execution_count": 133
        }
      ]
    },
    {
      "cell_type": "code",
      "source": [
        "y.iloc[60]\n"
      ],
      "metadata": {
        "colab": {
          "base_uri": "https://localhost:8080/"
        },
        "id": "r1LqpoLC6iOB",
        "outputId": "79b7d2ef-3efc-48c3-fba5-9ef369deefb2"
      },
      "execution_count": 160,
      "outputs": [
        {
          "output_type": "execute_result",
          "data": {
            "text/plain": [
              "1"
            ]
          },
          "metadata": {},
          "execution_count": 160
        }
      ]
    },
    {
      "cell_type": "code",
      "source": [],
      "metadata": {
        "id": "WIww2Awr6n47"
      },
      "execution_count": null,
      "outputs": []
    }
  ]
}